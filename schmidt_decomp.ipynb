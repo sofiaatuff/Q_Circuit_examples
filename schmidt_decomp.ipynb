{
 "cells": [
  {
   "cell_type": "code",
   "execution_count": 1,
   "metadata": {},
   "outputs": [
    {
     "name": "stdout",
     "output_type": "stream",
     "text": [
      "U matrix:\n",
      "[[ 0.70710678 -0.70710678]\n",
      " [ 0.70710678  0.70710678]]\n",
      "\n",
      "Singular values:\n",
      "[0.95302061 0.30290545]\n",
      "\n",
      "V_dagger matrix:\n",
      "[[ 0.30290545  0.95302061]\n",
      " [-0.95302061  0.30290545]]\n",
      "\n",
      "Reconstructed state:\n",
      "[[ 4.08248290e-01  5.77350269e-01]\n",
      " [-5.55111512e-17  7.07106781e-01]]\n"
     ]
    }
   ],
   "source": [
    "import numpy as np\n",
    "\n",
    "# Matrix representation of the given state\n",
    "Psi = np.array([[1/np.sqrt(6), 1/np.sqrt(3)],\n",
    "                [0, 1/np.sqrt(2)]])\n",
    "\n",
    "# Perform SVD\n",
    "U, S, V_dagger = np.linalg.svd(Psi)\n",
    "\n",
    "# Print results\n",
    "print(\"U matrix:\")\n",
    "print(U)\n",
    "print(\"\\nSingular values:\")\n",
    "print(S)\n",
    "print(\"\\nV_dagger matrix:\")\n",
    "print(V_dagger)\n",
    "\n",
    "# Recover the state using Schmidt decomposition\n",
    "state_reconstructed = sum([S[i] * np.outer(U[:, i], V_dagger[i, :]) for i in range(len(S))])\n",
    "print(\"\\nReconstructed state:\")\n",
    "print(state_reconstructed)\n"
   ]
  },
  {
   "cell_type": "code",
   "execution_count": null,
   "metadata": {},
   "outputs": [],
   "source": []
  }
 ],
 "metadata": {
  "kernelspec": {
   "display_name": "Python 3",
   "language": "python",
   "name": "python3"
  },
  "language_info": {
   "codemirror_mode": {
    "name": "ipython",
    "version": 3
   },
   "file_extension": ".py",
   "mimetype": "text/x-python",
   "name": "python",
   "nbconvert_exporter": "python",
   "pygments_lexer": "ipython3",
   "version": "3.9.12"
  },
  "orig_nbformat": 4
 },
 "nbformat": 4,
 "nbformat_minor": 2
}
